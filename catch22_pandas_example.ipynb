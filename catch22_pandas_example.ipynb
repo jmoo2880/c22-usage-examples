{
 "cells": [
  {
   "cell_type": "code",
   "execution_count": 2,
   "metadata": {},
   "outputs": [],
   "source": [
    "import numpy as np\n",
    "import pandas as pd\n",
    "import matplotlib.pyplot as plt"
   ]
  },
  {
   "attachments": {},
   "cell_type": "markdown",
   "metadata": {},
   "source": [
    "# Import catch22"
   ]
  },
  {
   "cell_type": "code",
   "execution_count": 3,
   "metadata": {},
   "outputs": [],
   "source": [
    "import pycatch22 as catch22"
   ]
  },
  {
   "attachments": {},
   "cell_type": "markdown",
   "metadata": {},
   "source": [
    "Generate an example time-series."
   ]
  },
  {
   "cell_type": "code",
   "execution_count": 4,
   "metadata": {},
   "outputs": [],
   "source": [
    "x1 = np.random.normal(size=(1, 1000))"
   ]
  },
  {
   "cell_type": "code",
   "execution_count": 5,
   "metadata": {},
   "outputs": [
    {
     "data": {
      "text/plain": [
       "(1, 1000)"
      ]
     },
     "execution_count": 5,
     "metadata": {},
     "output_type": "execute_result"
    }
   ],
   "source": [
    "x1.shape"
   ]
  },
  {
   "attachments": {},
   "cell_type": "markdown",
   "metadata": {},
   "source": [
    "Apply catch22 feature extraction using the default parameters (i.e. extract 22 features) and inspect the returned dictionary."
   ]
  },
  {
   "cell_type": "code",
   "execution_count": 6,
   "metadata": {},
   "outputs": [
    {
     "name": "stdout",
     "output_type": "stream",
     "text": [
      "{'names': ['DN_HistogramMode_5', 'DN_HistogramMode_10', 'CO_f1ecac', 'CO_FirstMin_ac', 'CO_HistogramAMI_even_2_5', 'CO_trev_1_num', 'MD_hrv_classic_pnn40', 'SB_BinaryStats_mean_longstretch1', 'SB_TransitionMatrix_3ac_sumdiagcov', 'PD_PeriodicityWang_th0_01', 'CO_Embed2_Dist_tau_d_expfit_meandiff', 'IN_AutoMutualInfoStats_40_gaussian_fmmi', 'FC_LocalSimple_mean1_tauresrat', 'DN_OutlierInclude_p_001_mdrmd', 'DN_OutlierInclude_n_001_mdrmd', 'SP_Summaries_welch_rect_area_5_1', 'SB_BinaryStats_diff_longstretch0', 'SB_MotifThree_quantile_hh', 'SC_FluctAnal_2_rsrangefit_50_1_logi_prop_r1', 'SC_FluctAnal_2_dfa_50_1_2_logi_prop_r1', 'SP_Summaries_welch_rect_centroid', 'FC_LocalSimple_mean3_stderr'], 'values': [-0.21323460290288931, 0.10294136126422604, 0.599803932404667, 1, 0.012686712096469497, 0.24492229657950154, 0.983983983983984, 11.0, 0.000390447170560617, 5, 0.10028094764549761, 3.0, 1.0, 0.09400000000000008, -0.039000000000000035, 0.17413666987701848, 6.0, 2.19369354533011, 0.14583333333333334, 0.125, 1.6628351740681446, 1.1568928098240148]}\n"
     ]
    }
   ],
   "source": [
    "print(catch22.catch22_all(x1[0,:]))"
   ]
  },
  {
   "attachments": {},
   "cell_type": "markdown",
   "metadata": {},
   "source": [
    "The returned dictionary consists of two keys: 'names' and 'values'. The 'names' key contains an array of extracte feature names, and the 'values' key contains the corresponding real-valued output for the key. Let's inspect the keys individually:"
   ]
  },
  {
   "cell_type": "code",
   "execution_count": 7,
   "metadata": {},
   "outputs": [
    {
     "name": "stdout",
     "output_type": "stream",
     "text": [
      "['DN_HistogramMode_5', 'DN_HistogramMode_10', 'CO_f1ecac', 'CO_FirstMin_ac', 'CO_HistogramAMI_even_2_5', 'CO_trev_1_num', 'MD_hrv_classic_pnn40', 'SB_BinaryStats_mean_longstretch1', 'SB_TransitionMatrix_3ac_sumdiagcov', 'PD_PeriodicityWang_th0_01', 'CO_Embed2_Dist_tau_d_expfit_meandiff', 'IN_AutoMutualInfoStats_40_gaussian_fmmi', 'FC_LocalSimple_mean1_tauresrat', 'DN_OutlierInclude_p_001_mdrmd', 'DN_OutlierInclude_n_001_mdrmd', 'SP_Summaries_welch_rect_area_5_1', 'SB_BinaryStats_diff_longstretch0', 'SB_MotifThree_quantile_hh', 'SC_FluctAnal_2_rsrangefit_50_1_logi_prop_r1', 'SC_FluctAnal_2_dfa_50_1_2_logi_prop_r1', 'SP_Summaries_welch_rect_centroid', 'FC_LocalSimple_mean3_stderr']\n",
      "[-0.21323460290288931, 0.10294136126422604, 0.599803932404667, 1, 0.012686712096469497, 0.24492229657950154, 0.983983983983984, 11.0, 0.000390447170560617, 5, 0.10028094764549761, 3.0, 1.0, 0.09400000000000008, -0.039000000000000035, 0.17413666987701848, 6.0, 2.19369354533011, 0.14583333333333334, 0.125, 1.6628351740681446, 1.1568928098240148]\n"
     ]
    }
   ],
   "source": [
    "catch22_output = catch22.catch22_all(x1[0,:])\n",
    "print(catch22_output['names'])\n",
    "print(catch22_output['values'])\n",
    "fnames22 = catch22_output['names']"
   ]
  },
  {
   "cell_type": "code",
   "execution_count": 8,
   "metadata": {},
   "outputs": [
    {
     "data": {
      "text/plain": [
       "['DN_HistogramMode_5',\n",
       " 'DN_HistogramMode_10',\n",
       " 'CO_f1ecac',\n",
       " 'CO_FirstMin_ac',\n",
       " 'CO_HistogramAMI_even_2_5',\n",
       " 'CO_trev_1_num',\n",
       " 'MD_hrv_classic_pnn40',\n",
       " 'SB_BinaryStats_mean_longstretch1',\n",
       " 'SB_TransitionMatrix_3ac_sumdiagcov',\n",
       " 'PD_PeriodicityWang_th0_01',\n",
       " 'CO_Embed2_Dist_tau_d_expfit_meandiff',\n",
       " 'IN_AutoMutualInfoStats_40_gaussian_fmmi',\n",
       " 'FC_LocalSimple_mean1_tauresrat',\n",
       " 'DN_OutlierInclude_p_001_mdrmd',\n",
       " 'DN_OutlierInclude_n_001_mdrmd',\n",
       " 'SP_Summaries_welch_rect_area_5_1',\n",
       " 'SB_BinaryStats_diff_longstretch0',\n",
       " 'SB_MotifThree_quantile_hh',\n",
       " 'SC_FluctAnal_2_rsrangefit_50_1_logi_prop_r1',\n",
       " 'SC_FluctAnal_2_dfa_50_1_2_logi_prop_r1',\n",
       " 'SP_Summaries_welch_rect_centroid',\n",
       " 'FC_LocalSimple_mean3_stderr']"
      ]
     },
     "execution_count": 8,
     "metadata": {},
     "output_type": "execute_result"
    }
   ],
   "source": [
    "catch22_output['names']"
   ]
  },
  {
   "attachments": {},
   "cell_type": "markdown",
   "metadata": {},
   "source": [
    "We can store these features in a pandas DataFrame for further analysis:"
   ]
  },
  {
   "cell_type": "code",
   "execution_count": 9,
   "metadata": {},
   "outputs": [
    {
     "data": {
      "text/html": [
       "<div>\n",
       "<style scoped>\n",
       "    .dataframe tbody tr th:only-of-type {\n",
       "        vertical-align: middle;\n",
       "    }\n",
       "\n",
       "    .dataframe tbody tr th {\n",
       "        vertical-align: top;\n",
       "    }\n",
       "\n",
       "    .dataframe thead th {\n",
       "        text-align: right;\n",
       "    }\n",
       "</style>\n",
       "<table border=\"1\" class=\"dataframe\">\n",
       "  <thead>\n",
       "    <tr style=\"text-align: right;\">\n",
       "      <th></th>\n",
       "      <th>DN_HistogramMode_5</th>\n",
       "      <th>DN_HistogramMode_10</th>\n",
       "      <th>CO_f1ecac</th>\n",
       "      <th>CO_FirstMin_ac</th>\n",
       "      <th>CO_HistogramAMI_even_2_5</th>\n",
       "      <th>CO_trev_1_num</th>\n",
       "      <th>MD_hrv_classic_pnn40</th>\n",
       "      <th>SB_BinaryStats_mean_longstretch1</th>\n",
       "      <th>SB_TransitionMatrix_3ac_sumdiagcov</th>\n",
       "      <th>PD_PeriodicityWang_th0_01</th>\n",
       "      <th>...</th>\n",
       "      <th>FC_LocalSimple_mean1_tauresrat</th>\n",
       "      <th>DN_OutlierInclude_p_001_mdrmd</th>\n",
       "      <th>DN_OutlierInclude_n_001_mdrmd</th>\n",
       "      <th>SP_Summaries_welch_rect_area_5_1</th>\n",
       "      <th>SB_BinaryStats_diff_longstretch0</th>\n",
       "      <th>SB_MotifThree_quantile_hh</th>\n",
       "      <th>SC_FluctAnal_2_rsrangefit_50_1_logi_prop_r1</th>\n",
       "      <th>SC_FluctAnal_2_dfa_50_1_2_logi_prop_r1</th>\n",
       "      <th>SP_Summaries_welch_rect_centroid</th>\n",
       "      <th>FC_LocalSimple_mean3_stderr</th>\n",
       "    </tr>\n",
       "  </thead>\n",
       "  <tbody>\n",
       "    <tr>\n",
       "      <th>0</th>\n",
       "      <td>-0.213235</td>\n",
       "      <td>0.102941</td>\n",
       "      <td>0.599804</td>\n",
       "      <td>1.0</td>\n",
       "      <td>0.012687</td>\n",
       "      <td>0.244922</td>\n",
       "      <td>0.983984</td>\n",
       "      <td>11.0</td>\n",
       "      <td>0.00039</td>\n",
       "      <td>5.0</td>\n",
       "      <td>...</td>\n",
       "      <td>1.0</td>\n",
       "      <td>0.094</td>\n",
       "      <td>-0.039</td>\n",
       "      <td>0.174137</td>\n",
       "      <td>6.0</td>\n",
       "      <td>2.193694</td>\n",
       "      <td>0.145833</td>\n",
       "      <td>0.125</td>\n",
       "      <td>1.662835</td>\n",
       "      <td>1.156893</td>\n",
       "    </tr>\n",
       "  </tbody>\n",
       "</table>\n",
       "<p>1 rows × 22 columns</p>\n",
       "</div>"
      ],
      "text/plain": [
       "   DN_HistogramMode_5  DN_HistogramMode_10  CO_f1ecac  CO_FirstMin_ac  \\\n",
       "0           -0.213235             0.102941   0.599804             1.0   \n",
       "\n",
       "   CO_HistogramAMI_even_2_5  CO_trev_1_num  MD_hrv_classic_pnn40  \\\n",
       "0                  0.012687       0.244922              0.983984   \n",
       "\n",
       "   SB_BinaryStats_mean_longstretch1  SB_TransitionMatrix_3ac_sumdiagcov  \\\n",
       "0                              11.0                             0.00039   \n",
       "\n",
       "   PD_PeriodicityWang_th0_01  ...  FC_LocalSimple_mean1_tauresrat  \\\n",
       "0                        5.0  ...                             1.0   \n",
       "\n",
       "   DN_OutlierInclude_p_001_mdrmd  DN_OutlierInclude_n_001_mdrmd  \\\n",
       "0                          0.094                         -0.039   \n",
       "\n",
       "   SP_Summaries_welch_rect_area_5_1  SB_BinaryStats_diff_longstretch0  \\\n",
       "0                          0.174137                               6.0   \n",
       "\n",
       "   SB_MotifThree_quantile_hh  SC_FluctAnal_2_rsrangefit_50_1_logi_prop_r1  \\\n",
       "0                   2.193694                                     0.145833   \n",
       "\n",
       "   SC_FluctAnal_2_dfa_50_1_2_logi_prop_r1  SP_Summaries_welch_rect_centroid  \\\n",
       "0                                   0.125                          1.662835   \n",
       "\n",
       "   FC_LocalSimple_mean3_stderr  \n",
       "0                     1.156893  \n",
       "\n",
       "[1 rows x 22 columns]"
      ]
     },
     "execution_count": 9,
     "metadata": {},
     "output_type": "execute_result"
    }
   ],
   "source": [
    "feature_matrix = pd.DataFrame(catch22_output['values'], index=catch22_output['names']).T\n",
    "feature_matrix"
   ]
  },
  {
   "attachments": {},
   "cell_type": "markdown",
   "metadata": {},
   "source": [
    "## Dataset of time-series"
   ]
  },
  {
   "attachments": {},
   "cell_type": "markdown",
   "metadata": {},
   "source": [
    "We can now apply catch22 to a dataset of time-series of varying lengths to produce a time-series x feature matrix."
   ]
  },
  {
   "cell_type": "code",
   "execution_count": 10,
   "metadata": {},
   "outputs": [],
   "source": [
    "x = [np.random.normal(size=(1, i)) for i in range(100, 1100, 100)] # generate a list of 10 univariate time-series of varying lengths"
   ]
  },
  {
   "attachments": {},
   "cell_type": "markdown",
   "metadata": {},
   "source": [
    "Visualise the time-series data."
   ]
  },
  {
   "cell_type": "code",
   "execution_count": 22,
   "metadata": {},
   "outputs": [
    {
     "data": {
      "image/png": "[encoded data removed]",
      "text/plain": [
       "<Figure size 1440x360 with 4 Axes>"
      ]
     },
     "metadata": {
      "needs_background": "light"
     },
     "output_type": "display_data"
    }
   ],
   "source": [
    "fig, axes = plt.subplots(2,2, figsize=(20,5))\n",
    "for index, ax in enumerate(axes.ravel()):\n",
    "    ax.plot(x[index][0,:])\n",
    "    if index == 2 or index == 3:\n",
    "        ax.set_xlabel('time')\n",
    "    if index == 0 or index == 2:\n",
    "        ax.set_ylabel('x')"
   ]
  },
  {
   "cell_type": "code",
   "execution_count": 12,
   "metadata": {},
   "outputs": [],
   "source": [
    "features = np.array([catch22.catch22_all(x[i][0,:])['values'] for i in range(len(x))])\n",
    "df = pd.DataFrame(features, columns=fnames22)"
   ]
  },
  {
   "attachments": {},
   "cell_type": "markdown",
   "metadata": {},
   "source": [
    "Check the catch22 time-series x feature matrix shape."
   ]
  },
  {
   "cell_type": "code",
   "execution_count": 13,
   "metadata": {},
   "outputs": [
    {
     "data": {
      "text/plain": [
       "(10, 22)"
      ]
     },
     "execution_count": 13,
     "metadata": {},
     "output_type": "execute_result"
    }
   ],
   "source": [
    "df.shape"
   ]
  },
  {
   "cell_type": "code",
   "execution_count": 14,
   "metadata": {},
   "outputs": [
    {
     "data": {
      "text/html": [
       "<div>\n",
       "<style scoped>\n",
       "    .dataframe tbody tr th:only-of-type {\n",
       "        vertical-align: middle;\n",
       "    }\n",
       "\n",
       "    .dataframe tbody tr th {\n",
       "        vertical-align: top;\n",
       "    }\n",
       "\n",
       "    .dataframe thead th {\n",
       "        text-align: right;\n",
       "    }\n",
       "</style>\n",
       "<table border=\"1\" class=\"dataframe\">\n",
       "  <thead>\n",
       "    <tr style=\"text-align: right;\">\n",
       "      <th></th>\n",
       "      <th>DN_HistogramMode_5</th>\n",
       "      <th>DN_HistogramMode_10</th>\n",
       "      <th>CO_f1ecac</th>\n",
       "      <th>CO_FirstMin_ac</th>\n",
       "      <th>CO_HistogramAMI_even_2_5</th>\n",
       "      <th>CO_trev_1_num</th>\n",
       "      <th>MD_hrv_classic_pnn40</th>\n",
       "      <th>SB_BinaryStats_mean_longstretch1</th>\n",
       "      <th>SB_TransitionMatrix_3ac_sumdiagcov</th>\n",
       "      <th>PD_PeriodicityWang_th0_01</th>\n",
       "      <th>...</th>\n",
       "      <th>FC_LocalSimple_mean1_tauresrat</th>\n",
       "      <th>DN_OutlierInclude_p_001_mdrmd</th>\n",
       "      <th>DN_OutlierInclude_n_001_mdrmd</th>\n",
       "      <th>SP_Summaries_welch_rect_area_5_1</th>\n",
       "      <th>SB_BinaryStats_diff_longstretch0</th>\n",
       "      <th>SB_MotifThree_quantile_hh</th>\n",
       "      <th>SC_FluctAnal_2_rsrangefit_50_1_logi_prop_r1</th>\n",
       "      <th>SC_FluctAnal_2_dfa_50_1_2_logi_prop_r1</th>\n",
       "      <th>SP_Summaries_welch_rect_centroid</th>\n",
       "      <th>FC_LocalSimple_mean3_stderr</th>\n",
       "    </tr>\n",
       "  </thead>\n",
       "  <tbody>\n",
       "    <tr>\n",
       "      <th>0</th>\n",
       "      <td>0.544923</td>\n",
       "      <td>0.303909</td>\n",
       "      <td>0.522707</td>\n",
       "      <td>1.0</td>\n",
       "      <td>0.074910</td>\n",
       "      <td>-0.505351</td>\n",
       "      <td>0.959596</td>\n",
       "      <td>5.0</td>\n",
       "      <td>0.003435</td>\n",
       "      <td>4.0</td>\n",
       "      <td>...</td>\n",
       "      <td>1.0</td>\n",
       "      <td>-0.140000</td>\n",
       "      <td>0.080000</td>\n",
       "      <td>0.127672</td>\n",
       "      <td>4.0</td>\n",
       "      <td>2.163155</td>\n",
       "      <td>0.771429</td>\n",
       "      <td>0.828571</td>\n",
       "      <td>2.159845</td>\n",
       "      <td>1.114788</td>\n",
       "    </tr>\n",
       "    <tr>\n",
       "      <th>1</th>\n",
       "      <td>0.122645</td>\n",
       "      <td>-0.162450</td>\n",
       "      <td>0.655590</td>\n",
       "      <td>3.0</td>\n",
       "      <td>0.049758</td>\n",
       "      <td>0.732995</td>\n",
       "      <td>0.979899</td>\n",
       "      <td>7.0</td>\n",
       "      <td>0.002211</td>\n",
       "      <td>5.0</td>\n",
       "      <td>...</td>\n",
       "      <td>0.5</td>\n",
       "      <td>-0.060000</td>\n",
       "      <td>-0.130000</td>\n",
       "      <td>0.158177</td>\n",
       "      <td>6.0</td>\n",
       "      <td>2.190963</td>\n",
       "      <td>0.142857</td>\n",
       "      <td>0.809524</td>\n",
       "      <td>1.398990</td>\n",
       "      <td>1.187104</td>\n",
       "    </tr>\n",
       "    <tr>\n",
       "      <th>2</th>\n",
       "      <td>0.267337</td>\n",
       "      <td>-0.016848</td>\n",
       "      <td>0.657024</td>\n",
       "      <td>3.0</td>\n",
       "      <td>0.033840</td>\n",
       "      <td>0.367749</td>\n",
       "      <td>0.976589</td>\n",
       "      <td>6.0</td>\n",
       "      <td>0.002928</td>\n",
       "      <td>3.0</td>\n",
       "      <td>...</td>\n",
       "      <td>0.5</td>\n",
       "      <td>0.046667</td>\n",
       "      <td>-0.066667</td>\n",
       "      <td>0.217962</td>\n",
       "      <td>5.0</td>\n",
       "      <td>2.183955</td>\n",
       "      <td>0.136364</td>\n",
       "      <td>0.227273</td>\n",
       "      <td>1.411262</td>\n",
       "      <td>1.164491</td>\n",
       "    </tr>\n",
       "    <tr>\n",
       "      <th>3</th>\n",
       "      <td>0.229965</td>\n",
       "      <td>-0.110556</td>\n",
       "      <td>0.536614</td>\n",
       "      <td>1.0</td>\n",
       "      <td>0.009206</td>\n",
       "      <td>-0.199017</td>\n",
       "      <td>0.979950</td>\n",
       "      <td>7.0</td>\n",
       "      <td>0.001694</td>\n",
       "      <td>6.0</td>\n",
       "      <td>...</td>\n",
       "      <td>1.0</td>\n",
       "      <td>-0.140000</td>\n",
       "      <td>-0.070000</td>\n",
       "      <td>0.123186</td>\n",
       "      <td>6.0</td>\n",
       "      <td>2.181699</td>\n",
       "      <td>0.711111</td>\n",
       "      <td>0.355556</td>\n",
       "      <td>1.865321</td>\n",
       "      <td>1.188946</td>\n",
       "    </tr>\n",
       "    <tr>\n",
       "      <th>4</th>\n",
       "      <td>-0.301497</td>\n",
       "      <td>0.012723</td>\n",
       "      <td>0.622782</td>\n",
       "      <td>1.0</td>\n",
       "      <td>0.015065</td>\n",
       "      <td>-0.159884</td>\n",
       "      <td>0.987976</td>\n",
       "      <td>9.0</td>\n",
       "      <td>0.000968</td>\n",
       "      <td>8.0</td>\n",
       "      <td>...</td>\n",
       "      <td>1.0</td>\n",
       "      <td>-0.026000</td>\n",
       "      <td>-0.012000</td>\n",
       "      <td>0.212629</td>\n",
       "      <td>6.0</td>\n",
       "      <td>2.188265</td>\n",
       "      <td>0.130435</td>\n",
       "      <td>0.869565</td>\n",
       "      <td>1.583068</td>\n",
       "      <td>1.129323</td>\n",
       "    </tr>\n",
       "  </tbody>\n",
       "</table>\n",
       "<p>5 rows × 22 columns</p>\n",
       "</div>"
      ],
      "text/plain": [
       "   DN_HistogramMode_5  DN_HistogramMode_10  CO_f1ecac  CO_FirstMin_ac  \\\n",
       "0            0.544923             0.303909   0.522707             1.0   \n",
       "1            0.122645            -0.162450   0.655590             3.0   \n",
       "2            0.267337            -0.016848   0.657024             3.0   \n",
       "3            0.229965            -0.110556   0.536614             1.0   \n",
       "4           -0.301497             0.012723   0.622782             1.0   \n",
       "\n",
       "   CO_HistogramAMI_even_2_5  CO_trev_1_num  MD_hrv_classic_pnn40  \\\n",
       "0                  0.074910      -0.505351              0.959596   \n",
       "1                  0.049758       0.732995              0.979899   \n",
       "2                  0.033840       0.367749              0.976589   \n",
       "3                  0.009206      -0.199017              0.979950   \n",
       "4                  0.015065      -0.159884              0.987976   \n",
       "\n",
       "   SB_BinaryStats_mean_longstretch1  SB_TransitionMatrix_3ac_sumdiagcov  \\\n",
       "0                               5.0                            0.003435   \n",
       "1                               7.0                            0.002211   \n",
       "2                               6.0                            0.002928   \n",
       "3                               7.0                            0.001694   \n",
       "4                               9.0                            0.000968   \n",
       "\n",
       "   PD_PeriodicityWang_th0_01  ...  FC_LocalSimple_mean1_tauresrat  \\\n",
       "0                        4.0  ...                             1.0   \n",
       "1                        5.0  ...                             0.5   \n",
       "2                        3.0  ...                             0.5   \n",
       "3                        6.0  ...                             1.0   \n",
       "4                        8.0  ...                             1.0   \n",
       "\n",
       "   DN_OutlierInclude_p_001_mdrmd  DN_OutlierInclude_n_001_mdrmd  \\\n",
       "0                      -0.140000                       0.080000   \n",
       "1                      -0.060000                      -0.130000   \n",
       "2                       0.046667                      -0.066667   \n",
       "3                      -0.140000                      -0.070000   \n",
       "4                      -0.026000                      -0.012000   \n",
       "\n",
       "   SP_Summaries_welch_rect_area_5_1  SB_BinaryStats_diff_longstretch0  \\\n",
       "0                          0.127672                               4.0   \n",
       "1                          0.158177                               6.0   \n",
       "2                          0.217962                               5.0   \n",
       "3                          0.123186                               6.0   \n",
       "4                          0.212629                               6.0   \n",
       "\n",
       "   SB_MotifThree_quantile_hh  SC_FluctAnal_2_rsrangefit_50_1_logi_prop_r1  \\\n",
       "0                   2.163155                                     0.771429   \n",
       "1                   2.190963                                     0.142857   \n",
       "2                   2.183955                                     0.136364   \n",
       "3                   2.181699                                     0.711111   \n",
       "4                   2.188265                                     0.130435   \n",
       "\n",
       "   SC_FluctAnal_2_dfa_50_1_2_logi_prop_r1  SP_Summaries_welch_rect_centroid  \\\n",
       "0                                0.828571                          2.159845   \n",
       "1                                0.809524                          1.398990   \n",
       "2                                0.227273                          1.411262   \n",
       "3                                0.355556                          1.865321   \n",
       "4                                0.869565                          1.583068   \n",
       "\n",
       "   FC_LocalSimple_mean3_stderr  \n",
       "0                     1.114788  \n",
       "1                     1.187104  \n",
       "2                     1.164491  \n",
       "3                     1.188946  \n",
       "4                     1.129323  \n",
       "\n",
       "[5 rows x 22 columns]"
      ]
     },
     "execution_count": 14,
     "metadata": {},
     "output_type": "execute_result"
    }
   ],
   "source": [
    "df.head()"
   ]
  },
  {
   "attachments": {},
   "cell_type": "markdown",
   "metadata": {},
   "source": [
    "# Catch24"
   ]
  },
  {
   "attachments": {},
   "cell_type": "markdown",
   "metadata": {},
   "source": [
    "We can access the two additional time-series features (catch24 = catch22 + mean + standard deviation)."
   ]
  },
  {
   "cell_type": "code",
   "execution_count": 15,
   "metadata": {},
   "outputs": [
    {
     "name": "stdout",
     "output_type": "stream",
     "text": [
      "{'names': ['DN_HistogramMode_5', 'DN_HistogramMode_10', 'CO_f1ecac', 'CO_FirstMin_ac', 'CO_HistogramAMI_even_2_5', 'CO_trev_1_num', 'MD_hrv_classic_pnn40', 'SB_BinaryStats_mean_longstretch1', 'SB_TransitionMatrix_3ac_sumdiagcov', 'PD_PeriodicityWang_th0_01', 'CO_Embed2_Dist_tau_d_expfit_meandiff', 'IN_AutoMutualInfoStats_40_gaussian_fmmi', 'FC_LocalSimple_mean1_tauresrat', 'DN_OutlierInclude_p_001_mdrmd', 'DN_OutlierInclude_n_001_mdrmd', 'SP_Summaries_welch_rect_area_5_1', 'SB_BinaryStats_diff_longstretch0', 'SB_MotifThree_quantile_hh', 'SC_FluctAnal_2_rsrangefit_50_1_logi_prop_r1', 'SC_FluctAnal_2_dfa_50_1_2_logi_prop_r1', 'SP_Summaries_welch_rect_centroid', 'FC_LocalSimple_mean3_stderr', 'DN_Mean', 'DN_Spread_Std'], 'values': [-0.21323460290288931, 0.10294136126422604, 0.599803932404667, 1, 0.012686712096469497, 0.24492229657950154, 0.983983983983984, 11.0, 0.000390447170560617, 5, 0.10028094764549761, 3.0, 1.0, 0.09400000000000008, -0.039000000000000035, 0.17413666987701848, 6.0, 2.19369354533011, 0.14583333333333334, 0.125, 1.6628351740681446, 1.1568928098240148, -0.019538315126759978, 0.9992337022479473]}\n"
     ]
    }
   ],
   "source": [
    "catch24_output = catch22.catch22_all(x1[0,:], catch24=True)\n",
    "print(catch24_output)\n",
    "fnames24 = catch24_output['names']"
   ]
  },
  {
   "cell_type": "code",
   "execution_count": 16,
   "metadata": {},
   "outputs": [
    {
     "data": {
      "text/html": [
       "<div>\n",
       "<style scoped>\n",
       "    .dataframe tbody tr th:only-of-type {\n",
       "        vertical-align: middle;\n",
       "    }\n",
       "\n",
       "    .dataframe tbody tr th {\n",
       "        vertical-align: top;\n",
       "    }\n",
       "\n",
       "    .dataframe thead th {\n",
       "        text-align: right;\n",
       "    }\n",
       "</style>\n",
       "<table border=\"1\" class=\"dataframe\">\n",
       "  <thead>\n",
       "    <tr style=\"text-align: right;\">\n",
       "      <th></th>\n",
       "      <th>DN_HistogramMode_5</th>\n",
       "      <th>DN_HistogramMode_10</th>\n",
       "      <th>CO_f1ecac</th>\n",
       "      <th>CO_FirstMin_ac</th>\n",
       "      <th>CO_HistogramAMI_even_2_5</th>\n",
       "      <th>CO_trev_1_num</th>\n",
       "      <th>MD_hrv_classic_pnn40</th>\n",
       "      <th>SB_BinaryStats_mean_longstretch1</th>\n",
       "      <th>SB_TransitionMatrix_3ac_sumdiagcov</th>\n",
       "      <th>PD_PeriodicityWang_th0_01</th>\n",
       "      <th>...</th>\n",
       "      <th>DN_OutlierInclude_n_001_mdrmd</th>\n",
       "      <th>SP_Summaries_welch_rect_area_5_1</th>\n",
       "      <th>SB_BinaryStats_diff_longstretch0</th>\n",
       "      <th>SB_MotifThree_quantile_hh</th>\n",
       "      <th>SC_FluctAnal_2_rsrangefit_50_1_logi_prop_r1</th>\n",
       "      <th>SC_FluctAnal_2_dfa_50_1_2_logi_prop_r1</th>\n",
       "      <th>SP_Summaries_welch_rect_centroid</th>\n",
       "      <th>FC_LocalSimple_mean3_stderr</th>\n",
       "      <th>DN_Mean</th>\n",
       "      <th>DN_Spread_Std</th>\n",
       "    </tr>\n",
       "  </thead>\n",
       "  <tbody>\n",
       "    <tr>\n",
       "      <th>0</th>\n",
       "      <td>-0.213235</td>\n",
       "      <td>0.102941</td>\n",
       "      <td>0.599804</td>\n",
       "      <td>1.0</td>\n",
       "      <td>0.012687</td>\n",
       "      <td>0.244922</td>\n",
       "      <td>0.983984</td>\n",
       "      <td>11.0</td>\n",
       "      <td>0.00039</td>\n",
       "      <td>5.0</td>\n",
       "      <td>...</td>\n",
       "      <td>-0.039</td>\n",
       "      <td>0.174137</td>\n",
       "      <td>6.0</td>\n",
       "      <td>2.193694</td>\n",
       "      <td>0.145833</td>\n",
       "      <td>0.125</td>\n",
       "      <td>1.662835</td>\n",
       "      <td>1.156893</td>\n",
       "      <td>-0.019538</td>\n",
       "      <td>0.999234</td>\n",
       "    </tr>\n",
       "  </tbody>\n",
       "</table>\n",
       "<p>1 rows × 24 columns</p>\n",
       "</div>"
      ],
      "text/plain": [
       "   DN_HistogramMode_5  DN_HistogramMode_10  CO_f1ecac  CO_FirstMin_ac  \\\n",
       "0           -0.213235             0.102941   0.599804             1.0   \n",
       "\n",
       "   CO_HistogramAMI_even_2_5  CO_trev_1_num  MD_hrv_classic_pnn40  \\\n",
       "0                  0.012687       0.244922              0.983984   \n",
       "\n",
       "   SB_BinaryStats_mean_longstretch1  SB_TransitionMatrix_3ac_sumdiagcov  \\\n",
       "0                              11.0                             0.00039   \n",
       "\n",
       "   PD_PeriodicityWang_th0_01  ...  DN_OutlierInclude_n_001_mdrmd  \\\n",
       "0                        5.0  ...                         -0.039   \n",
       "\n",
       "   SP_Summaries_welch_rect_area_5_1  SB_BinaryStats_diff_longstretch0  \\\n",
       "0                          0.174137                               6.0   \n",
       "\n",
       "   SB_MotifThree_quantile_hh  SC_FluctAnal_2_rsrangefit_50_1_logi_prop_r1  \\\n",
       "0                   2.193694                                     0.145833   \n",
       "\n",
       "   SC_FluctAnal_2_dfa_50_1_2_logi_prop_r1  SP_Summaries_welch_rect_centroid  \\\n",
       "0                                   0.125                          1.662835   \n",
       "\n",
       "   FC_LocalSimple_mean3_stderr   DN_Mean  DN_Spread_Std  \n",
       "0                     1.156893 -0.019538       0.999234  \n",
       "\n",
       "[1 rows x 24 columns]"
      ]
     },
     "execution_count": 16,
     "metadata": {},
     "output_type": "execute_result"
    }
   ],
   "source": [
    "feature_matrix24 = pd.DataFrame(catch24_output['values'], index=catch24_output['names']).T\n",
    "feature_matrix24"
   ]
  },
  {
   "attachments": {},
   "cell_type": "markdown",
   "metadata": {},
   "source": [
    "Apply to the full dataset."
   ]
  },
  {
   "cell_type": "code",
   "execution_count": 17,
   "metadata": {},
   "outputs": [],
   "source": [
    "features = np.array([catch22.catch22_all(x[i][0,:], catch24=True) for i in range(len(x))])"
   ]
  },
  {
   "cell_type": "code",
   "execution_count": 18,
   "metadata": {},
   "outputs": [],
   "source": [
    "features = np.array([catch22.catch22_all(x[i][0,:], catch24=True)['values'] for i in range(len(x))])\n",
    "df2 = pd.DataFrame(features, columns=fnames24)"
   ]
  },
  {
   "attachments": {},
   "cell_type": "markdown",
   "metadata": {},
   "source": [
    "Check the time-series x feature matrix shape. "
   ]
  },
  {
   "cell_type": "code",
   "execution_count": 19,
   "metadata": {},
   "outputs": [
    {
     "data": {
      "text/plain": [
       "(10, 24)"
      ]
     },
     "execution_count": 19,
     "metadata": {},
     "output_type": "execute_result"
    }
   ],
   "source": [
    "df2.shape"
   ]
  },
  {
   "cell_type": "code",
   "execution_count": 20,
   "metadata": {},
   "outputs": [
    {
     "data": {
      "text/html": [
       "<div>\n",
       "<style scoped>\n",
       "    .dataframe tbody tr th:only-of-type {\n",
       "        vertical-align: middle;\n",
       "    }\n",
       "\n",
       "    .dataframe tbody tr th {\n",
       "        vertical-align: top;\n",
       "    }\n",
       "\n",
       "    .dataframe thead th {\n",
       "        text-align: right;\n",
       "    }\n",
       "</style>\n",
       "<table border=\"1\" class=\"dataframe\">\n",
       "  <thead>\n",
       "    <tr style=\"text-align: right;\">\n",
       "      <th></th>\n",
       "      <th>DN_HistogramMode_5</th>\n",
       "      <th>DN_HistogramMode_10</th>\n",
       "      <th>CO_f1ecac</th>\n",
       "      <th>CO_FirstMin_ac</th>\n",
       "      <th>CO_HistogramAMI_even_2_5</th>\n",
       "      <th>CO_trev_1_num</th>\n",
       "      <th>MD_hrv_classic_pnn40</th>\n",
       "      <th>SB_BinaryStats_mean_longstretch1</th>\n",
       "      <th>SB_TransitionMatrix_3ac_sumdiagcov</th>\n",
       "      <th>PD_PeriodicityWang_th0_01</th>\n",
       "      <th>...</th>\n",
       "      <th>DN_OutlierInclude_n_001_mdrmd</th>\n",
       "      <th>SP_Summaries_welch_rect_area_5_1</th>\n",
       "      <th>SB_BinaryStats_diff_longstretch0</th>\n",
       "      <th>SB_MotifThree_quantile_hh</th>\n",
       "      <th>SC_FluctAnal_2_rsrangefit_50_1_logi_prop_r1</th>\n",
       "      <th>SC_FluctAnal_2_dfa_50_1_2_logi_prop_r1</th>\n",
       "      <th>SP_Summaries_welch_rect_centroid</th>\n",
       "      <th>FC_LocalSimple_mean3_stderr</th>\n",
       "      <th>DN_Mean</th>\n",
       "      <th>DN_Spread_Std</th>\n",
       "    </tr>\n",
       "  </thead>\n",
       "  <tbody>\n",
       "    <tr>\n",
       "      <th>0</th>\n",
       "      <td>0.544923</td>\n",
       "      <td>0.303909</td>\n",
       "      <td>0.522707</td>\n",
       "      <td>1.0</td>\n",
       "      <td>0.074910</td>\n",
       "      <td>-0.505351</td>\n",
       "      <td>0.959596</td>\n",
       "      <td>5.0</td>\n",
       "      <td>0.003435</td>\n",
       "      <td>4.0</td>\n",
       "      <td>...</td>\n",
       "      <td>0.080000</td>\n",
       "      <td>0.127672</td>\n",
       "      <td>4.0</td>\n",
       "      <td>2.163155</td>\n",
       "      <td>0.771429</td>\n",
       "      <td>0.828571</td>\n",
       "      <td>2.159845</td>\n",
       "      <td>1.114788</td>\n",
       "      <td>0.060336</td>\n",
       "      <td>1.051193</td>\n",
       "    </tr>\n",
       "    <tr>\n",
       "      <th>1</th>\n",
       "      <td>0.122645</td>\n",
       "      <td>-0.162450</td>\n",
       "      <td>0.655590</td>\n",
       "      <td>3.0</td>\n",
       "      <td>0.049758</td>\n",
       "      <td>0.732995</td>\n",
       "      <td>0.979899</td>\n",
       "      <td>7.0</td>\n",
       "      <td>0.002211</td>\n",
       "      <td>5.0</td>\n",
       "      <td>...</td>\n",
       "      <td>-0.130000</td>\n",
       "      <td>0.158177</td>\n",
       "      <td>6.0</td>\n",
       "      <td>2.190963</td>\n",
       "      <td>0.142857</td>\n",
       "      <td>0.809524</td>\n",
       "      <td>1.398990</td>\n",
       "      <td>1.187104</td>\n",
       "      <td>-0.138835</td>\n",
       "      <td>1.112122</td>\n",
       "    </tr>\n",
       "    <tr>\n",
       "      <th>2</th>\n",
       "      <td>0.267337</td>\n",
       "      <td>-0.016848</td>\n",
       "      <td>0.657024</td>\n",
       "      <td>3.0</td>\n",
       "      <td>0.033840</td>\n",
       "      <td>0.367749</td>\n",
       "      <td>0.976589</td>\n",
       "      <td>6.0</td>\n",
       "      <td>0.002928</td>\n",
       "      <td>3.0</td>\n",
       "      <td>...</td>\n",
       "      <td>-0.066667</td>\n",
       "      <td>0.217962</td>\n",
       "      <td>5.0</td>\n",
       "      <td>2.183955</td>\n",
       "      <td>0.136364</td>\n",
       "      <td>0.227273</td>\n",
       "      <td>1.411262</td>\n",
       "      <td>1.164491</td>\n",
       "      <td>0.034398</td>\n",
       "      <td>0.967072</td>\n",
       "    </tr>\n",
       "    <tr>\n",
       "      <th>3</th>\n",
       "      <td>0.229965</td>\n",
       "      <td>-0.110556</td>\n",
       "      <td>0.536614</td>\n",
       "      <td>1.0</td>\n",
       "      <td>0.009206</td>\n",
       "      <td>-0.199017</td>\n",
       "      <td>0.979950</td>\n",
       "      <td>7.0</td>\n",
       "      <td>0.001694</td>\n",
       "      <td>6.0</td>\n",
       "      <td>...</td>\n",
       "      <td>-0.070000</td>\n",
       "      <td>0.123186</td>\n",
       "      <td>6.0</td>\n",
       "      <td>2.181699</td>\n",
       "      <td>0.711111</td>\n",
       "      <td>0.355556</td>\n",
       "      <td>1.865321</td>\n",
       "      <td>1.188946</td>\n",
       "      <td>0.011478</td>\n",
       "      <td>1.021152</td>\n",
       "    </tr>\n",
       "    <tr>\n",
       "      <th>4</th>\n",
       "      <td>-0.301497</td>\n",
       "      <td>0.012723</td>\n",
       "      <td>0.622782</td>\n",
       "      <td>1.0</td>\n",
       "      <td>0.015065</td>\n",
       "      <td>-0.159884</td>\n",
       "      <td>0.987976</td>\n",
       "      <td>9.0</td>\n",
       "      <td>0.000968</td>\n",
       "      <td>8.0</td>\n",
       "      <td>...</td>\n",
       "      <td>-0.012000</td>\n",
       "      <td>0.212629</td>\n",
       "      <td>6.0</td>\n",
       "      <td>2.188265</td>\n",
       "      <td>0.130435</td>\n",
       "      <td>0.869565</td>\n",
       "      <td>1.583068</td>\n",
       "      <td>1.129323</td>\n",
       "      <td>-0.038944</td>\n",
       "      <td>0.989541</td>\n",
       "    </tr>\n",
       "  </tbody>\n",
       "</table>\n",
       "<p>5 rows × 24 columns</p>\n",
       "</div>"
      ],
      "text/plain": [
       "   DN_HistogramMode_5  DN_HistogramMode_10  CO_f1ecac  CO_FirstMin_ac  \\\n",
       "0            0.544923             0.303909   0.522707             1.0   \n",
       "1            0.122645            -0.162450   0.655590             3.0   \n",
       "2            0.267337            -0.016848   0.657024             3.0   \n",
       "3            0.229965            -0.110556   0.536614             1.0   \n",
       "4           -0.301497             0.012723   0.622782             1.0   \n",
       "\n",
       "   CO_HistogramAMI_even_2_5  CO_trev_1_num  MD_hrv_classic_pnn40  \\\n",
       "0                  0.074910      -0.505351              0.959596   \n",
       "1                  0.049758       0.732995              0.979899   \n",
       "2                  0.033840       0.367749              0.976589   \n",
       "3                  0.009206      -0.199017              0.979950   \n",
       "4                  0.015065      -0.159884              0.987976   \n",
       "\n",
       "   SB_BinaryStats_mean_longstretch1  SB_TransitionMatrix_3ac_sumdiagcov  \\\n",
       "0                               5.0                            0.003435   \n",
       "1                               7.0                            0.002211   \n",
       "2                               6.0                            0.002928   \n",
       "3                               7.0                            0.001694   \n",
       "4                               9.0                            0.000968   \n",
       "\n",
       "   PD_PeriodicityWang_th0_01  ...  DN_OutlierInclude_n_001_mdrmd  \\\n",
       "0                        4.0  ...                       0.080000   \n",
       "1                        5.0  ...                      -0.130000   \n",
       "2                        3.0  ...                      -0.066667   \n",
       "3                        6.0  ...                      -0.070000   \n",
       "4                        8.0  ...                      -0.012000   \n",
       "\n",
       "   SP_Summaries_welch_rect_area_5_1  SB_BinaryStats_diff_longstretch0  \\\n",
       "0                          0.127672                               4.0   \n",
       "1                          0.158177                               6.0   \n",
       "2                          0.217962                               5.0   \n",
       "3                          0.123186                               6.0   \n",
       "4                          0.212629                               6.0   \n",
       "\n",
       "   SB_MotifThree_quantile_hh  SC_FluctAnal_2_rsrangefit_50_1_logi_prop_r1  \\\n",
       "0                   2.163155                                     0.771429   \n",
       "1                   2.190963                                     0.142857   \n",
       "2                   2.183955                                     0.136364   \n",
       "3                   2.181699                                     0.711111   \n",
       "4                   2.188265                                     0.130435   \n",
       "\n",
       "   SC_FluctAnal_2_dfa_50_1_2_logi_prop_r1  SP_Summaries_welch_rect_centroid  \\\n",
       "0                                0.828571                          2.159845   \n",
       "1                                0.809524                          1.398990   \n",
       "2                                0.227273                          1.411262   \n",
       "3                                0.355556                          1.865321   \n",
       "4                                0.869565                          1.583068   \n",
       "\n",
       "   FC_LocalSimple_mean3_stderr   DN_Mean  DN_Spread_Std  \n",
       "0                     1.114788  0.060336       1.051193  \n",
       "1                     1.187104 -0.138835       1.112122  \n",
       "2                     1.164491  0.034398       0.967072  \n",
       "3                     1.188946  0.011478       1.021152  \n",
       "4                     1.129323 -0.038944       0.989541  \n",
       "\n",
       "[5 rows x 24 columns]"
      ]
     },
     "execution_count": 20,
     "metadata": {},
     "output_type": "execute_result"
    }
   ],
   "source": [
    "df2.head()"
   ]
  }
 ],
 "metadata": {
  "kernelspec": {
   "display_name": "pysindy",
   "language": "python",
   "name": "python3"
  },
  "language_info": {
   "codemirror_mode": {
    "name": "ipython",
    "version": 3
   },
   "file_extension": ".py",
   "mimetype": "text/x-python",
   "name": "python",
   "nbconvert_exporter": "python",
   "pygments_lexer": "ipython3",
   "version": "3.8.13"
  },
  "orig_nbformat": 4
 },
 "nbformat": 4,
 "nbformat_minor": 2
}
